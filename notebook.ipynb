{
 "cells": [
  {
   "cell_type": "code",
   "execution_count": 46,
   "metadata": {},
   "outputs": [],
   "source": [
    "import os\n",
    "import requests\n",
    "import time\n",
    "\n",
    "ROOT = os.getcwd()\n",
    "\n",
    "\n",
    "def savemp3(episode):\n",
    "    id, showpage, showtitle, date, desc, url = episode\n",
    "    outpath = os.path.join(ROOT, \"episodes\", f\"{id}.mp3\")\n",
    "    response = requests.request(\"GET\", url)\n",
    "    f = open(outpath, \"wb\")\n",
    "    f.write(response.content)\n",
    "    f.close()"
   ]
  },
  {
   "cell_type": "code",
   "execution_count": 47,
   "metadata": {},
   "outputs": [],
   "source": [
    "file = open(\"omnibus.html\").read().splitlines()\n",
    "grouped = [file[i : i + 4] for i in range(0, len(file), 4)]\n",
    "episodes = [\n",
    "    (\n",
    "        showpage.split(\">\")[0].replace('\"', \"\").split(\"/\")[-1],\n",
    "        showpage.split(\">\")[0].replace('\"', \"\"),\n",
    "        showpage.split(\">\")[1],\n",
    "        date,\n",
    "        desc,\n",
    "        link.split(\"?\")[0].replace('\"', \"\"),\n",
    "    )\n",
    "    for showpage, date, desc, link in grouped\n",
    "]"
   ]
  },
  {
   "cell_type": "code",
   "execution_count": 48,
   "metadata": {},
   "outputs": [],
   "source": [
    "str = [\n",
    "    \"|\".join([id, showpage, showtitle, date, desc, url])\n",
    "    for id, showpage, showtitle, date, desc, url in episodes\n",
    "]\n",
    "\n",
    "f = open(\"omnibus.txt\", \"w\")\n",
    "f.write(\"\\n\".join(str))\n",
    "f.close()"
   ]
  },
  {
   "cell_type": "code",
   "execution_count": 49,
   "metadata": {},
   "outputs": [],
   "source": [
    "os.makedirs(\"episodes\", exist_ok=True)"
   ]
  },
  {
   "cell_type": "code",
   "execution_count": 50,
   "metadata": {},
   "outputs": [],
   "source": [
    "for episode in episodes:\n",
    "    savemp3(episode)\n",
    "    time.sleep(1)"
   ]
  }
 ],
 "metadata": {
  "kernelspec": {
   "display_name": "Python 3",
   "language": "python",
   "name": "python3"
  },
  "language_info": {
   "codemirror_mode": {
    "name": "ipython",
    "version": 3
   },
   "file_extension": ".py",
   "mimetype": "text/x-python",
   "name": "python",
   "nbconvert_exporter": "python",
   "pygments_lexer": "ipython3",
   "version": "3.12.6"
  }
 },
 "nbformat": 4,
 "nbformat_minor": 2
}
